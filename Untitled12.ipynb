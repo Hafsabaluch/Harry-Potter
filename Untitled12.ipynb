{
  "nbformat": 4,
  "nbformat_minor": 0,
  "metadata": {
    "colab": {
      "provenance": []
    },
    "kernelspec": {
      "name": "python3",
      "display_name": "Python 3"
    },
    "language_info": {
      "name": "python"
    }
  },
  "cells": [
    {
      "cell_type": "code",
      "execution_count": 2,
      "metadata": {
        "id": "Xziau1YvSxAU",
        "colab": {
          "base_uri": "https://localhost:8080/"
        },
        "outputId": "67aadfd7-305f-44a2-e7af-a00caac4bd57"
      },
      "outputs": [
        {
          "output_type": "stream",
          "name": "stdout",
          "text": [
            "-----Mini Library------\n",
            "Welcome to the Library\n",
            "Select a Category\n",
            " 1. Fiction\n",
            " 2. Non-Fiction\n",
            " 3. Fantasy\n",
            "Enter Value 1 till 3: 1\n",
            "FICTION:\n",
            " 1. Divergent\n",
            " 2. Harry Potter\n",
            " 3. Twilight\n",
            "Enter the book name: harry potter\n",
            "1. The Sorcerer's Stone\n",
            "2. The Secrets of Chamber\n",
            "3. The Prisoner of Azkaban\n",
            "4. Black Michael\n",
            "Library is complete!\n"
          ]
        }
      ],
      "source": [
        "print(\"-----Mini Library------\")\n",
        "print(\"Welcome to the Library\")\n",
        "\n",
        "print(\"Select a Category\\n 1. Fiction\\n 2. Non-Fiction\\n 3. Fantasy\")\n",
        "category = int(input(\"Enter Value 1 till 3: \"))\n",
        "\n",
        "if category == 1:\n",
        "    print(\"FICTION:\\n 1. Divergent\\n 2. Harry Potter\\n 3. Twilight\")\n",
        "elif category == 2:\n",
        "    print(\"NON-FICTION:\\n 1. Silent Spring\\n 2. Educated\\n 3. Sixth Sense\")\n",
        "\n",
        "series = input(\"Enter the book name: \")\n",
        "\n",
        "if series.lower() == \"harry potter\":\n",
        "    print(\"1. The Sorcerer's Stone\\n2. The Secrets of Chamber\\n3. The Prisoner of Azkaban\\n4. Black Michael\")\n",
        "\n",
        "print(\"Library is complete!\")\n"
      ]
    }
  ]
}